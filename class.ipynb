{
 "cells": [
  {
   "cell_type": "code",
   "execution_count": 1,
   "id": "3050007c",
   "metadata": {},
   "outputs": [
    {
     "name": "stdout",
     "output_type": "stream",
     "text": [
      "101\n",
      "ajay\n"
     ]
    }
   ],
   "source": [
    "# Class in python.\n",
    "class Emp: #class \n",
    "    empno:int #properties of an object.\n",
    "    ename:str #properties of an object.\n",
    "e = Emp() #Object of class\n",
    "e.empno=101 #value assigning to the properties.\n",
    "e.ename=\"ajay\" #value assigning to the properties.\n",
    "print(e.empno) #printinng values.\n",
    "print(e.ename) #printinng values."
   ]
  }
 ],
 "metadata": {
  "kernelspec": {
   "display_name": "Python 3 (ipykernel)",
   "language": "python",
   "name": "python3"
  },
  "language_info": {
   "codemirror_mode": {
    "name": "ipython",
    "version": 3
   },
   "file_extension": ".py",
   "mimetype": "text/x-python",
   "name": "python",
   "nbconvert_exporter": "python",
   "pygments_lexer": "ipython3",
   "version": "3.9.7"
  }
 },
 "nbformat": 4,
 "nbformat_minor": 5
}
